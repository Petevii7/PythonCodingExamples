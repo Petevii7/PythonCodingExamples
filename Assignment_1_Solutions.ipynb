{
 "cells": [
  {
   "cell_type": "markdown",
   "id": "c6972753-d1b9-480c-9f79-8205b6b33f70",
   "metadata": {},
   "source": [
    "# Assignment_1"
   ]
  },
  {
   "cell_type": "markdown",
   "id": "a65dbb1c-cd5d-44bd-bfcf-32b4e0c25804",
   "metadata": {},
   "source": [
    "### 1. Create a sample list and tuple and explain immutability in Tuple with the help of an example."
   ]
  },
  {
   "cell_type": "code",
   "execution_count": 1,
   "id": "9ce4a257-f620-47a9-9cdf-18bb9d86a945",
   "metadata": {},
   "outputs": [
    {
     "name": "stdout",
     "output_type": "stream",
     "text": [
      "[24, 'horse', True]\n",
      "(20, 40.9, 60, 'GOT', False)\n"
     ]
    }
   ],
   "source": [
    "#Sample list\n",
    "list1 = [24, 'horse', True]\n",
    "print(list1)\n",
    "\n",
    "#Sample tuple\n",
    "tuple1 = (20, 40.9, 60, 'GOT',False)\n",
    "print(tuple1)\n"
   ]
  },
  {
   "cell_type": "code",
   "execution_count": 2,
   "id": "d5f10d54-fc91-48ed-9a0b-07b0b3917508",
   "metadata": {},
   "outputs": [
    {
     "name": "stdout",
     "output_type": "stream",
     "text": [
      "TypeError: 'tuple' object does not support item assignment\n"
     ]
    }
   ],
   "source": [
    "#check for immutability in Tuples\n",
    "\n",
    "try:\n",
    "    tuple1[0] = 100\n",
    "except TypeError as e:\n",
    "    print(\"TypeError:\", e)"
   ]
  },
  {
   "cell_type": "markdown",
   "id": "34111c26-6000-43af-993a-f0a85f726605",
   "metadata": {},
   "source": [
    "### 2. Create a list of prime numbers between 1- 25 and reverse the list objects."
   ]
  },
  {
   "cell_type": "code",
   "execution_count": 6,
   "id": "7dc9adc8-b0ee-4c83-9def-3c7924dacf7f",
   "metadata": {},
   "outputs": [
    {
     "name": "stdout",
     "output_type": "stream",
     "text": [
      "Prime numbers : [2, 3, 5, 7, 11, 13, 17, 19, 23]\n"
     ]
    }
   ],
   "source": [
    "# List of prime number\n",
    "def prime_num(n):\n",
    "    if n <= 1:\n",
    "        return False\n",
    "    if n <= 3:\n",
    "        return True\n",
    "    if n % 2 == 0 or n % 3== 0:\n",
    "        return False\n",
    "    i = 5\n",
    "    while i * i <= n:\n",
    "        if n % i == 0 or n % (i + 2) == 0:\n",
    "            return False\n",
    "        i += 6\n",
    "    return True\n",
    "\n",
    "prime_numbers = []\n",
    "\n",
    "# Loop through numbers from 1 to 25\n",
    "for num in range(1, 26):\n",
    "    if prime_num(num):\n",
    "        prime_numbers.append(num)\n",
    "\n",
    "print(\"Prime numbers :\", prime_numbers)"
   ]
  },
  {
   "cell_type": "code",
   "execution_count": 8,
   "id": "d393fcd9-ccd5-435b-8ec2-430e63683347",
   "metadata": {},
   "outputs": [
    {
     "name": "stdout",
     "output_type": "stream",
     "text": [
      "Reversed numbers: [23, 19, 17, 13, 11, 7, 5, 3, 2]\n"
     ]
    }
   ],
   "source": [
    "#Chedk for Reversing the list objects\n",
    "\n",
    "reversed_num = list(reversed(prime_numbers))\n",
    "print(\"Reversed numbers:\", reversed_num)\n"
   ]
  },
  {
   "cell_type": "markdown",
   "id": "2f811245-1770-4ba5-baff-d6405839a712",
   "metadata": {},
   "source": [
    "### 3. Find the list of all the odd numbers between 50 and 100. You may use ‘For loop’ and conditional statements. Bonus: List comprehension helps in writing concise codes contrary to conditional statements. Perform the same operation through list comprehension."
   ]
  },
  {
   "cell_type": "code",
   "execution_count": 9,
   "id": "962002d2-0d12-4092-9151-a5983b17182e",
   "metadata": {},
   "outputs": [
    {
     "name": "stdout",
     "output_type": "stream",
     "text": [
      "Odd numbers: [51, 53, 55, 57, 59, 61, 63, 65, 67, 69, 71, 73, 75, 77, 79, 81, 83, 85, 87, 89, 91, 93, 95, 97, 99]\n"
     ]
    }
   ],
   "source": [
    "odd_numbers = []\n",
    "for num in range(50, 101):\n",
    "    if num % 2 != 0:  \n",
    "        odd_numbers.append(num)\n",
    "\n",
    "print(\"Odd numbers:\", odd_numbers)\n"
   ]
  },
  {
   "cell_type": "code",
   "execution_count": 11,
   "id": "d9a7e818-26c0-4611-8c6a-536c820d1c00",
   "metadata": {},
   "outputs": [
    {
     "name": "stdout",
     "output_type": "stream",
     "text": [
      "Odd numbers using list comprehension: [51, 53, 55, 57, 59, 61, 63, 65, 67, 69, 71, 73, 75, 77, 79, 81, 83, 85, 87, 89, 91, 93, 95, 97, 99]\n"
     ]
    }
   ],
   "source": [
    "# List comprehension method\n",
    "odd_num1 = [num for num in range(50, 101) if num % 2 != 0]\n",
    "\n",
    "print(\"Odd numbers using list comprehension:\", odd_num1)\n"
   ]
  },
  {
   "cell_type": "markdown",
   "id": "b5486ea6-76a9-4a2c-be49-f02139cdeabc",
   "metadata": {},
   "source": [
    "### 4. Create a sample list and set and explain the key difference between a list and a set"
   ]
  },
  {
   "cell_type": "code",
   "execution_count": null,
   "id": "c921c7d9-0ce2-4dff-bbb7-6ce1b2bb2084",
   "metadata": {},
   "outputs": [],
   "source": []
  },
  {
   "cell_type": "markdown",
   "id": "3f61187e-09aa-405e-8bdd-7c922749d9fe",
   "metadata": {},
   "source": [
    "### 5. Create a dictionary of 5 key-value pairs and print them. Perform addition and deletion operations on the dictionary you created."
   ]
  },
  {
   "cell_type": "code",
   "execution_count": 12,
   "id": "bfe041a6-f1bb-4518-adee-7405bacc926a",
   "metadata": {},
   "outputs": [
    {
     "name": "stdout",
     "output_type": "stream",
     "text": [
      "{'apple': 3, 'banana': 5, 'orange': 2, 'grape': 4, 'kiwi': 6}\n"
     ]
    }
   ],
   "source": [
    "dict = {\"apple\": 3,\"banana\": 5,\"orange\": 2,\"grape\": 4,\"kiwi\": 6}\n",
    "\n",
    "print(dict)"
   ]
  },
  {
   "cell_type": "code",
   "execution_count": 13,
   "id": "566f1d26-3419-46dd-bf9f-e27dafb74d5a",
   "metadata": {},
   "outputs": [
    {
     "name": "stdout",
     "output_type": "stream",
     "text": [
      "{'apple': 3, 'banana': 5, 'orange': 2, 'grape': 4, 'kiwi': 6, 'pineapple': 7}\n"
     ]
    }
   ],
   "source": [
    "#Addition\n",
    "dict[\"pineapple\"] = 7\n",
    "print(dict)"
   ]
  },
  {
   "cell_type": "code",
   "execution_count": 14,
   "id": "e6bb0066-bfa6-47fa-903e-553d9ef1739d",
   "metadata": {},
   "outputs": [
    {
     "name": "stdout",
     "output_type": "stream",
     "text": [
      "{'apple': 3, 'banana': 5, 'grape': 4, 'kiwi': 6, 'pineapple': 7}\n"
     ]
    }
   ],
   "source": [
    "#deletion\n",
    "del dict[\"orange\"]\n",
    "print(dict)"
   ]
  },
  {
   "cell_type": "markdown",
   "id": "08542d2d-27f7-4048-868e-4101af6dc56b",
   "metadata": {},
   "source": [
    "### 6. Write a Python function to check whether a number is prime (Hint: define a function, use if-else statements, and perform a loop operation):"
   ]
  },
  {
   "cell_type": "code",
   "execution_count": 18,
   "id": "b572b476-f157-4b54-9c74-bd2b4ed276f2",
   "metadata": {},
   "outputs": [
    {
     "name": "stdout",
     "output_type": "stream",
     "text": [
      "Is 7 prime? False\n",
      "Is 20 prime? True\n"
     ]
    }
   ],
   "source": [
    "#Prime number\n",
    "def prime(num):\n",
    "    if num <= 1:\n",
    "        return False\n",
    "    elif num <= 3:\n",
    "        return True\n",
    "    elif num % 2 == 0 or num % 3 == 0:\n",
    "        return False\n",
    "    else:\n",
    "        i = 5\n",
    "        while i * i <= num:\n",
    "            if num % i == 0 or num % (i + 2) == 0:\n",
    "                return False\n",
    "            i += 6\n",
    "        return True\n",
    "\n",
    "#Test the function\n",
    "print(\"Is 7 prime?\", prime(24))\n",
    "print(\"Is 20 prime?\", prime(53))\n"
   ]
  },
  {
   "cell_type": "markdown",
   "id": "72348558-3ebc-4ffd-9269-b4d5057676eb",
   "metadata": {},
   "source": [
    "### 7. With the help of an example, explain break and continue functions using ‘For loop’ "
   ]
  },
  {
   "cell_type": "markdown",
   "id": "37b15159-1a02-40e3-8f50-3780951a5528",
   "metadata": {},
   "source": [
    "Please see notes"
   ]
  },
  {
   "cell_type": "markdown",
   "id": "83606b66-2f2a-4ddd-a63c-7e87371b3f28",
   "metadata": {},
   "source": [
    "### 8. Create a list of numbers and write a function to find the second-largest number"
   ]
  },
  {
   "cell_type": "code",
   "execution_count": 20,
   "id": "e9301a10-a61c-425c-88f0-24281f6676a6",
   "metadata": {},
   "outputs": [
    {
     "name": "stdout",
     "output_type": "stream",
     "text": [
      "Second largest num: 60\n"
     ]
    }
   ],
   "source": [
    "def second_largest(numbers):\n",
    "    if len(numbers) < 2:\n",
    "        return \"List should have at least two numbers\"\n",
    "    \n",
    "    sorted_numbers = sorted(numbers, reverse=True)\n",
    "    return sorted_numbers[1]\n",
    "\n",
    "# Example \n",
    "numbers = [20, 40, 60, 80, 50]\n",
    "\n",
    "print(\"Second largest num:\", second_largest(numbers))\n"
   ]
  },
  {
   "cell_type": "markdown",
   "id": "700b9104-8ae2-4f38-98a5-7577063b441a",
   "metadata": {},
   "source": [
    "### 9. For the list num = [2,4,8,10,20,50,60], create a Python function to find the third largest number (Hint: use sorted method in Python)"
   ]
  },
  {
   "cell_type": "code",
   "execution_count": 23,
   "id": "4d6041e5-6614-4f7b-9e4e-712d0a064c60",
   "metadata": {},
   "outputs": [
    {
     "name": "stdout",
     "output_type": "stream",
     "text": [
      "Third largest num: 250\n"
     ]
    }
   ],
   "source": [
    "def third_largest(numbers):\n",
    "    # Check if the list has at least three numbers\n",
    "    if len(numbers) < 3:\n",
    "        return \"List should have at least three numbers\"\n",
    "    \n",
    "    sorted_numbers = sorted(numbers, reverse=True)\n",
    "    \n",
    "    return sorted_numbers[2]\n",
    "\n",
    "# Given list of numbers\n",
    "num = [204, 48, 85, 1, 2000, 250, 630]\n",
    "\n",
    "print(\"Third largest num:\", third_largest(num))\n"
   ]
  },
  {
   "cell_type": "markdown",
   "id": "54d7cc2f-82a4-4383-b344-8e2271ff58aa",
   "metadata": {},
   "source": [
    " 10. You’re a Cybersecurity Analyst working on tracking the most vulnerable passwords. You are given a list of popular passwords. Popular_password = [\"123456\", \"password\", \"12345678\", \"qwerty\", \"abc123\", \"monkey\", \"1234567\", \"letmein\", \"trustno1\", \"dragon\", \"baseball\", \"111111\", \"iloveyou\", \"master\", “password123”, ”sunshine\", \"ashley\", \"bailey\", \"passw0rd\", \"shadow\", \"123123\", \"654321\", \"superman\", \"securepassword123”, “password123$”].\n",
    "     \n",
    "Create a Python function and perform loop operations to track the vulnerable_passwords = [‘password’, ‘password123’, ‘password123$’] from the popular password list.\n"
   ]
  },
  {
   "cell_type": "code",
   "execution_count": 24,
   "id": "92293ab4-091b-4cde-8030-358150c5806a",
   "metadata": {},
   "outputs": [
    {
     "name": "stdout",
     "output_type": "stream",
     "text": [
      "Vulnerable passwords found: ['password', 'password123', 'password123$']\n"
     ]
    }
   ],
   "source": [
    "def vulnerable_passwords(popular_passwords):\n",
    "    # List of vulnerable passwords\n",
    "    vulnerable_passwords = ['password', 'password123', 'password123$']\n",
    "    \n",
    "    # Initialize an empty list for vulnerable passwords \n",
    "    found_vulnerable_passwords = []\n",
    "    \n",
    "    for password in popular_passwords:\n",
    "        if password in vulnerable_passwords:\n",
    "            found_vulnerable_passwords.append(password)\n",
    "    \n",
    "    return found_vulnerable_passwords\n",
    "\n",
    "# Given list of popular passwords\n",
    "popular_passwords = [\"123456\", \"password\", \"12345678\", \"qwerty\", \"abc123\",\n",
    "                     \"monkey\", \"1234567\", \"letmein\", \"trustno1\", \"dragon\",\n",
    "                     \"baseball\", \"111111\", \"iloveyou\", \"master\", \"password123\",\n",
    "                     \"sunshine\", \"ashley\", \"bailey\", \"passw0rd\", \"shadow\",\n",
    "                     \"123123\", \"654321\", \"superman\", \"securepassword123\", \"password123$\"]\n",
    "\n",
    "vulnerable_passwords_found = vulnerable_passwords(popular_passwords)\n",
    "print(\"Vulnerable passwords found:\", vulnerable_passwords_found)\n"
   ]
  },
  {
   "cell_type": "code",
   "execution_count": null,
   "id": "e3c229a5-af6c-459e-ac71-ea6ca5fc4f3a",
   "metadata": {},
   "outputs": [],
   "source": []
  },
  {
   "cell_type": "code",
   "execution_count": null,
   "id": "dbaa8c68-3a88-49be-b5a4-a025358badb0",
   "metadata": {},
   "outputs": [],
   "source": []
  },
  {
   "cell_type": "code",
   "execution_count": null,
   "id": "54622972-aaf6-4244-a2a4-4598a298c408",
   "metadata": {},
   "outputs": [],
   "source": []
  },
  {
   "cell_type": "code",
   "execution_count": null,
   "id": "ec121de5-07b9-4933-bd6d-3f59cdad96cc",
   "metadata": {},
   "outputs": [],
   "source": []
  },
  {
   "cell_type": "code",
   "execution_count": null,
   "id": "658453b2-37af-45d5-8089-828a2e1bd520",
   "metadata": {},
   "outputs": [],
   "source": []
  }
 ],
 "metadata": {
  "kernelspec": {
   "display_name": "Python 3",
   "language": "python",
   "name": "python3"
  },
  "language_info": {
   "codemirror_mode": {
    "name": "ipython",
    "version": 3
   },
   "file_extension": ".py",
   "mimetype": "text/x-python",
   "name": "python",
   "nbconvert_exporter": "python",
   "pygments_lexer": "ipython3",
   "version": "3.9.13"
  }
 },
 "nbformat": 4,
 "nbformat_minor": 5
}
